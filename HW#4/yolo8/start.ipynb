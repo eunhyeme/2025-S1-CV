{
 "cells": [
  {
   "cell_type": "markdown",
   "id": "33d0d6da",
   "metadata": {},
   "source": [
    "# YOLOv8 성능평가용\n",
    "- 객체 학습 및 탐지\n",
    "- 탐지모델을 학습 모드로 실행/ 사전학습모델/ 데이터셋설정파일/ 이미지 크기/ 에포크/ 결과 저장 폴더"
   ]
  },
  {
   "cell_type": "code",
   "execution_count": 1,
   "id": "03a29c27",
   "metadata": {},
   "outputs": [
    {
     "ename": "SyntaxError",
     "evalue": "invalid syntax (3395729746.py, line 1)",
     "output_type": "error",
     "traceback": [
      "\u001b[1;36m  Cell \u001b[1;32mIn[1], line 1\u001b[1;36m\u001b[0m\n\u001b[1;33m    yolo detect train model=yolov8n.pt data=coco128.yaml imgsz=640 epochs=50 batch=16 project=runs/train name=my_yolo8_exp\u001b[0m\n\u001b[1;37m         ^\u001b[0m\n\u001b[1;31mSyntaxError\u001b[0m\u001b[1;31m:\u001b[0m invalid syntax\n"
     ]
    }
   ],
   "source": [
    "yolo detect train model=yolov8n.pt data=coco128.yaml imgsz=640 epochs=50 batch=16 project=runs/train name=my_yolo8_exp"
   ]
  }
 ],
 "metadata": {
  "kernelspec": {
   "display_name": "datascn",
   "language": "python",
   "name": "python3"
  },
  "language_info": {
   "codemirror_mode": {
    "name": "ipython",
    "version": 3
   },
   "file_extension": ".py",
   "mimetype": "text/x-python",
   "name": "python",
   "nbconvert_exporter": "python",
   "pygments_lexer": "ipython3",
   "version": "3.10.18"
  }
 },
 "nbformat": 4,
 "nbformat_minor": 5
}
